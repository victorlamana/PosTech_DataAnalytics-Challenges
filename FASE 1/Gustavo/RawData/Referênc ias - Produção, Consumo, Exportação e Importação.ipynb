{
 "cells": [
  {
   "cell_type": "markdown",
   "id": "f14e98d8",
   "metadata": {},
   "source": [
    "# Tendência de Consumo e Perspectivas do Mercado de Vinhos do Brasil"
   ]
  },
  {
   "cell_type": "code",
   "execution_count": 2,
   "id": "6b97a76c",
   "metadata": {},
   "outputs": [],
   "source": [
    "tendencia = \"https://ainfo.cnptia.embrapa.br/digital/bitstream/item/147324/1/tendencia.pdf\""
   ]
  },
  {
   "cell_type": "markdown",
   "id": "c5b63257",
   "metadata": {},
   "source": [
    "# Consumo e Importação de Vinho (Dataset almost ready)"
   ]
  },
  {
   "cell_type": "code",
   "execution_count": 3,
   "id": "bc028cda",
   "metadata": {},
   "outputs": [],
   "source": [
    "OIV_consumo_importacao = \"https://www.oiv.int/what-we-do/data-discovery-report?oiv\""
   ]
  },
  {
   "cell_type": "markdown",
   "id": "3a0b8784",
   "metadata": {},
   "source": [
    "# Estado do Mercado Mundial de Vinhos de 2018"
   ]
  },
  {
   "cell_type": "code",
   "execution_count": 8,
   "id": "d0dd1648",
   "metadata": {},
   "outputs": [],
   "source": [
    "OIV_mercado_mundial_vinhos_2018 = \"https://www.oiv.int/public/medias/6679/en-oiv-state-of-the-vitiviniculture-world-market-2019.pdf\""
   ]
  },
  {
   "cell_type": "markdown",
   "id": "2e7c90aa",
   "metadata": {},
   "source": [
    "# Estado do Mercado Mundial de Vinhos de 2022"
   ]
  },
  {
   "cell_type": "code",
   "execution_count": 7,
   "id": "ccb80d9e",
   "metadata": {},
   "outputs": [],
   "source": [
    "OIV_mercado_mundial_vinhos_2022 = \"https://www.oiv.int/sites/default/files/documents/2023_SWVWS_report_EN.pdf\""
   ]
  },
  {
   "cell_type": "markdown",
   "id": "65d06400",
   "metadata": {},
   "source": [
    "# Estado do setor de vinhos e vinhedos mundial em 2022"
   ]
  },
  {
   "cell_type": "code",
   "execution_count": 10,
   "id": "092128b0",
   "metadata": {},
   "outputs": [],
   "source": [
    "OIV_setor_vinhos_vinhedos = \"https://www.oiv.int/sites/default/files/documents/2023_SWVWS_report_EN.pdf\""
   ]
  },
  {
   "cell_type": "markdown",
   "id": "4828a81f",
   "metadata": {},
   "source": [
    "# Gráfico de consumo per capita de vinho"
   ]
  },
  {
   "cell_type": "code",
   "execution_count": 5,
   "id": "1b6c549b",
   "metadata": {},
   "outputs": [],
   "source": [
    "consumo = \"https://winefun.com.br/consumo-de-vinho-por-habitante-saiba-quais-sao-os-paises-que-lideram-este-ranking/\""
   ]
  },
  {
   "cell_type": "markdown",
   "id": "915336e8",
   "metadata": {},
   "source": [
    "# Infográfico sobre características do consumo interno de vinho no Brasil"
   ]
  },
  {
   "cell_type": "code",
   "execution_count": 6,
   "id": "a7923fd5",
   "metadata": {},
   "outputs": [],
   "source": [
    "info = \"https://www.portaldoagronegocio.com.br/agroindustria/processamento/noticias/brasil-bate-recorde-de-consumo-de-vinho-em-ano-de-pandemia\""
   ]
  },
  {
   "cell_type": "markdown",
   "id": "ce18dda3",
   "metadata": {},
   "source": [
    "# Consumo per capita revista Adega"
   ]
  },
  {
   "cell_type": "code",
   "execution_count": 9,
   "id": "ec875160",
   "metadata": {},
   "outputs": [],
   "source": [
    "consumo_adega = \"https://revistaadega.uol.com.br/artigo/qual-e-o-pais-que-mais-consome-vinho.html\""
   ]
  },
  {
   "cell_type": "markdown",
   "id": "fed3ee1b",
   "metadata": {},
   "source": [
    "# International Organisation of Vine and Wine"
   ]
  },
  {
   "cell_type": "code",
   "execution_count": 11,
   "id": "da2fcc83",
   "metadata": {},
   "outputs": [],
   "source": [
    "OIV = \"https://www.oiv.int/what-we-do/statistics\""
   ]
  },
  {
   "cell_type": "markdown",
   "id": "79764515",
   "metadata": {},
   "source": [
    "# OIV Statistics by Country"
   ]
  },
  {
   "cell_type": "code",
   "execution_count": 12,
   "id": "ce258cd4",
   "metadata": {},
   "outputs": [],
   "source": [
    "OIV_by_country = \"https://www.oiv.int/what-we-do/country-report?oiv\""
   ]
  },
  {
   "cell_type": "markdown",
   "id": "efea24c2",
   "metadata": {},
   "source": [
    "# OIV World Statistics"
   ]
  },
  {
   "cell_type": "code",
   "execution_count": 13,
   "id": "64f56df1",
   "metadata": {},
   "outputs": [],
   "source": [
    "OIV_world_statistics = \"https://www.oiv.int/what-we-do/global-report?oiv\""
   ]
  }
 ],
 "metadata": {
  "kernelspec": {
   "display_name": "Python 3 (ipykernel)",
   "language": "python",
   "name": "python3"
  },
  "language_info": {
   "codemirror_mode": {
    "name": "ipython",
    "version": 3
   },
   "file_extension": ".py",
   "mimetype": "text/x-python",
   "name": "python",
   "nbconvert_exporter": "python",
   "pygments_lexer": "ipython3",
   "version": "3.11.5"
  }
 },
 "nbformat": 4,
 "nbformat_minor": 5
}
